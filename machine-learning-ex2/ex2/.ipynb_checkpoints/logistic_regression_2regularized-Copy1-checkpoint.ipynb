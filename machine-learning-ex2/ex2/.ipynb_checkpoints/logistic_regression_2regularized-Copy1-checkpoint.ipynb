{
 "cells": [
  {
   "cell_type": "code",
   "execution_count": 1,
   "metadata": {},
   "outputs": [],
   "source": [
    "import numpy as np\n",
    "df = np.loadtxt('ex2data2.txt', delimiter=',')"
   ]
  },
  {
   "cell_type": "code",
   "execution_count": 2,
   "metadata": {},
   "outputs": [
    {
     "data": {
      "text/plain": [
       "array([[ 0.051267,  0.69956 ,  1.      ],\n",
       "       [-0.092742,  0.68494 ,  1.      ],\n",
       "       [-0.21371 ,  0.69225 ,  1.      ],\n",
       "       [-0.375   ,  0.50219 ,  1.      ],\n",
       "       [-0.51325 ,  0.46564 ,  1.      ]])"
      ]
     },
     "execution_count": 2,
     "metadata": {},
     "output_type": "execute_result"
    }
   ],
   "source": [
    "df[:5]"
   ]
  },
  {
   "cell_type": "code",
   "execution_count": 3,
   "metadata": {},
   "outputs": [],
   "source": [
    "X = np.c_[ np.ones(len(df)), df[ : , :(df.shape[1]-1)] ]"
   ]
  },
  {
   "cell_type": "code",
   "execution_count": 4,
   "metadata": {},
   "outputs": [],
   "source": [
    "y = df[ : , df.shape[1]-1 ]"
   ]
  },
  {
   "cell_type": "code",
   "execution_count": 5,
   "metadata": {},
   "outputs": [
    {
     "data": {
      "text/plain": [
       "array([ 58,  59,  60,  61,  62,  63,  64,  65,  66,  67,  68,  69,  70,\n",
       "        71,  72,  73,  74,  75,  76,  77,  78,  79,  80,  81,  82,  83,\n",
       "        84,  85,  86,  87,  88,  89,  90,  91,  92,  93,  94,  95,  96,\n",
       "        97,  98,  99, 100, 101, 102, 103, 104, 105, 106, 107, 108, 109,\n",
       "       110, 111, 112, 113, 114, 115, 116, 117])"
      ]
     },
     "execution_count": 5,
     "metadata": {},
     "output_type": "execute_result"
    }
   ],
   "source": [
    "np.argwhere(y==0).flatten()"
   ]
  },
  {
   "cell_type": "code",
   "execution_count": 6,
   "metadata": {},
   "outputs": [
    {
     "data": {
      "image/png": "[encoded data removed]",
      "text/plain": [
       "<Figure size 432x288 with 1 Axes>"
      ]
     },
     "metadata": {
      "needs_background": "light"
     },
     "output_type": "display_data"
    }
   ],
   "source": [
    "import matplotlib.pyplot as plt\n",
    "\n",
    "g1 = X[np.argwhere(y==0).flatten()] \n",
    "g2 = X[np.argwhere(y==1).flatten()]\n",
    "\n",
    "# Create plot\n",
    "plt.plot(g1[:,1], g1[:,2], 'ro', color='red', label=\"not_admitted\")\n",
    "plt.plot(g2[:,1], g2[:,2], 'ro', color='green', label=\"admitted\")\n",
    "plt.xlabel('x1')\n",
    "plt.ylabel('x2')\n",
    "plt.show()"
   ]
  },
  {
   "cell_type": "code",
   "execution_count": 7,
   "metadata": {},
   "outputs": [],
   "source": [
    "def sigmoid(z):\n",
    "    return 1/(1+np.exp(-z))"
   ]
  },
  {
   "cell_type": "code",
   "execution_count": 8,
   "metadata": {},
   "outputs": [],
   "source": [
    "def create_features(X, max_power):\n",
    "    temp = np.ones((len(X),1))\n",
    "    for i in range(1, max_power + 1):\n",
    "        for j in range(i + 1):\n",
    "            temp = np.append(temp, np.reshape(np.multiply(np.power(X[:, 1], i-j), np.power(X[:, 2], j)), (-1, 1)), axis = 1)\n",
    "    return temp"
   ]
  },
  {
   "cell_type": "code",
   "execution_count": 9,
   "metadata": {},
   "outputs": [],
   "source": [
    "def loss(X, y, theta, llambda):\n",
    "    return (-y.dot(np.log(sigmoid(X.dot(theta))))-(1-y).dot(np.log(1-sigmoid(X.dot(theta)))))/len(X) + llambda/2/len(X)*theta[1:].dot(theta[1:])"
   ]
  },
  {
   "cell_type": "code",
   "execution_count": 10,
   "metadata": {},
   "outputs": [],
   "source": [
    "def gradient_descent_step(X, y, theta, alfa, llambda):\n",
    "    return theta - alfa / len(X) * (sigmoid(X.dot(theta)) - y).dot(X) - llambda/len(X)*theta"
   ]
  },
  {
   "cell_type": "code",
   "execution_count": 11,
   "metadata": {},
   "outputs": [],
   "source": [
    "def find_mean(X):\n",
    "    return 1/len(X) * np.transpose(X).dot(np.ones(len(X)))"
   ]
  },
  {
   "cell_type": "code",
   "execution_count": 12,
   "metadata": {},
   "outputs": [],
   "source": [
    "def find_standard_deviation(X):\n",
    "    return np.sqrt(np.transpose(X - find_mean(X)).dot((X - find_mean(X)))/len(X))"
   ]
  },
  {
   "cell_type": "code",
   "execution_count": 13,
   "metadata": {},
   "outputs": [],
   "source": [
    "def normalize(X):\n",
    "    temp = np.copy(X)\n",
    "    mean = find_mean(X)\n",
    "    sd = find_standard_deviation(X)\n",
    "    for i in range(1, X.shape[1]): # don't normalize the bias!\n",
    "        temp[:,i] = (X[:,i] - mean[i])/sd[i, i]\n",
    "    return temp, mean, sd"
   ]
  },
  {
   "cell_type": "code",
   "execution_count": 14,
   "metadata": {},
   "outputs": [],
   "source": [
    "def normalize_with_given_stats(X, mean, sd):\n",
    "    temp = np.copy(X)\n",
    "    for i in range(1, X.shape[1]): # don't normalize the bias!\n",
    "        temp[:,i] = (X[:,i] - mean[i])/sd[i, i]\n",
    "    return temp"
   ]
  },
  {
   "cell_type": "code",
   "execution_count": 57,
   "metadata": {},
   "outputs": [
    {
     "name": "stderr",
     "output_type": "stream",
     "text": [
      "/opt/miniconda3/lib/python3.7/site-packages/ipykernel_launcher.py:2: RuntimeWarning: invalid value encountered in sqrt\n",
      "  \n"
     ]
    },
    {
     "data": {
      "text/plain": [
       "array([-0.2703285 ,  0.47435742,  0.85324609, -0.54299549, -0.55901266,\n",
       "       -0.60570499,  0.24358972,  0.17698593,  0.00906261,  0.15495825,\n",
       "       -0.60658732, -0.08120955, -0.24893713, -0.23124098, -0.59287101,\n",
       "       -0.0589962 , -0.03438264,  0.30724271, -0.15584566, -0.25834921,\n",
       "       -0.12195055, -0.54756173,  0.03545369, -0.2572101 ,  0.14096568,\n",
       "       -0.39296297, -0.1740527 , -0.44172778])"
      ]
     },
     "execution_count": 57,
     "metadata": {},
     "output_type": "execute_result"
    }
   ],
   "source": [
    "# train\n",
    "\n",
    "alfa = 0.3\n",
    "llambda = 1\n",
    "iterations = 1000\n",
    "\n",
    "losses = np.zeros(iterations)\n",
    "X_features = create_features(X, 6)\n",
    "X_normalized, mean, sd = normalize(X_features)\n",
    "theta = np.zeros(X_normalized.shape[1]) # init theta\n",
    "\n",
    "for i in range(iterations):\n",
    "    theta = gradient_descent_step(X_normalized, y, theta, alfa, llambda)\n",
    "    losses[i] = loss(X_normalized, y, theta, llambda)\n",
    "    \n",
    "theta"
   ]
  },
  {
   "cell_type": "code",
   "execution_count": 58,
   "metadata": {},
   "outputs": [
    {
     "data": {
      "image/png": "[encoded data removed]",
      "text/plain": [
       "<Figure size 432x288 with 1 Axes>"
      ]
     },
     "metadata": {
      "needs_background": "light"
     },
     "output_type": "display_data"
    }
   ],
   "source": [
    "import matplotlib.pyplot as plt\n",
    "plt.plot(losses)\n",
    "plt.ylabel('loss')\n",
    "plt.xlabel('iterations')\n",
    "plt.show()"
   ]
  },
  {
   "cell_type": "code",
   "execution_count": 59,
   "metadata": {},
   "outputs": [
    {
     "data": {
      "text/plain": [
       "0.3849353674271473"
      ]
     },
     "execution_count": 59,
     "metadata": {},
     "output_type": "execute_result"
    }
   ],
   "source": [
    "losses[-1]"
   ]
  },
  {
   "cell_type": "code",
   "execution_count": 60,
   "metadata": {},
   "outputs": [
    {
     "name": "stdout",
     "output_type": "stream",
     "text": [
      "[1. 1. 1. 1. 1. 1. 1. 1. 1. 1. 1. 1. 1. 1. 1. 1. 1. 1. 1. 1. 0. 1. 1. 0.\n",
      " 1. 1. 1. 0. 1. 1. 0. 1. 1. 1. 1. 1. 1. 1. 1. 1. 1. 1. 1. 1. 1. 1. 0. 1.\n",
      " 0. 1. 1. 1. 1. 1. 1. 1. 1. 1. 0. 0. 1. 0. 0. 0. 0. 0. 0. 0. 0. 0. 0. 0.\n",
      " 0. 0. 0. 0. 1. 1. 0. 0. 1. 1. 0. 1. 0. 0. 0. 0. 1. 0. 0. 0. 1. 0. 0. 0.\n",
      " 0. 0. 0. 0. 0. 0. 0. 0. 1. 0. 1. 1. 0. 0. 0. 0. 0. 0. 1. 0. 0. 1.]\n"
     ]
    }
   ],
   "source": [
    "# predict\n",
    "X_features = create_features(X, 6)\n",
    "X_normalized = normalize_with_given_stats(X_features, mean, sd)\n",
    "y_predicted = np.round(sigmoid(X_normalized.dot(theta)))\n",
    "print(y_predicted)"
   ]
  },
  {
   "cell_type": "code",
   "execution_count": 61,
   "metadata": {},
   "outputs": [],
   "source": [
    "def print_confusion_matrix(y, y_predicted):\n",
    "    TP = 0\n",
    "    for i in range(len(y)):\n",
    "        TP += np.where(y[i] == 1 and y_predicted[i] == 1,1,0)\n",
    "    FP = 0\n",
    "    for i in range(len(y)):\n",
    "        FP += np.where(y[i] == 0 and y_predicted[i] == 1,1,0)\n",
    "    TN = 0\n",
    "    for i in range(len(y)):\n",
    "        TN += np.where(y[i] == 0 and y_predicted[i] == 0,1,0)\n",
    "    FN = 0\n",
    "    for i in range(len(y)):\n",
    "        FN += np.where(y[i] == 1 and y_predicted[i] == 0,1,0)\n",
    "    print(\"      Actual Values\")\n",
    "    print(\"Pred. Pos    Neg\")\n",
    "    print(\"Pos   {}   {}\".format(np.round(TP/len(y),2), np.round(FP/len(y),2)))\n",
    "    print(\"Neg   {}   {}\".format(np.round(FN/len(y),2), np.round(TN/len(y),2)))"
   ]
  },
  {
   "cell_type": "code",
   "execution_count": 62,
   "metadata": {},
   "outputs": [
    {
     "name": "stdout",
     "output_type": "stream",
     "text": [
      "      Actual Values\n",
      "Pred. Pos    Neg\n",
      "Pos   0.44   0.11\n",
      "Neg   0.05   0.4\n"
     ]
    }
   ],
   "source": [
    "print_confusion_matrix(y, y_predicted)"
   ]
  },
  {
   "cell_type": "code",
   "execution_count": 63,
   "metadata": {},
   "outputs": [
    {
     "data": {
      "image/png": "[encoded data removed]",
      "text/plain": [
       "<Figure size 432x288 with 1 Axes>"
      ]
     },
     "metadata": {
      "needs_background": "light"
     },
     "output_type": "display_data"
    }
   ],
   "source": [
    "import matplotlib.pyplot as plt\n",
    "\n",
    "g1 = X[np.argwhere(y==0).flatten()] \n",
    "g2 = X[np.argwhere(y==1).flatten()]\n",
    "\n",
    "# create a wiremesh for the plane that the predicted values will lie\n",
    "xx, yy, zz = np.meshgrid(X[:, 0], X[:, 1], X[:, 2])\n",
    "combinedArrays = np.vstack((xx.flatten(), yy.flatten(), zz.flatten())).T\n",
    "Z = np.round(sigmoid(normalize_with_given_stats(create_features(combinedArrays,6), mean, sd).dot(theta)))\n",
    "\n",
    "p1 = combinedArrays[np.argwhere(Z==0).flatten()] \n",
    "p2 = combinedArrays[np.argwhere(Z==1).flatten()]\n",
    "\n",
    "# Create plot\n",
    "\n",
    "# decision boundary\n",
    "plt.plot(p1[:,1], p1[:,2], 'ro', color='pink')\n",
    "plt.plot(p2[:,1], p2[:,2], 'ro', color='lightgreen')\n",
    "\n",
    "# actual values\n",
    "plt.plot(g1[:,1], g1[:,2], 'ro', color='red')\n",
    "plt.plot(g2[:,1], g2[:,2], 'ro', color='green')\n",
    "\n",
    "plt.plot()\n",
    "plt.xlabel('x1')\n",
    "plt.ylabel('x2')\n",
    "plt.show()"
   ]
  },
  {
   "cell_type": "code",
   "execution_count": null,
   "metadata": {},
   "outputs": [],
   "source": []
  }
 ],
 "metadata": {
  "kernelspec": {
   "display_name": "Python 3",
   "language": "python",
   "name": "python3"
  },
  "language_info": {
   "codemirror_mode": {
    "name": "ipython",
    "version": 3
   },
   "file_extension": ".py",
   "mimetype": "text/x-python",
   "name": "python",
   "nbconvert_exporter": "python",
   "pygments_lexer": "ipython3",
   "version": "3.7.4"
  }
 },
 "nbformat": 4,
 "nbformat_minor": 4
}
