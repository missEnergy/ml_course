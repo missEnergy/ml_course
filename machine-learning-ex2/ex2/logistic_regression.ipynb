{
 "cells": [
  {
   "cell_type": "code",
   "execution_count": 165,
   "metadata": {},
   "outputs": [],
   "source": [
    "import numpy as np\n",
    "df = np.loadtxt('ex2data1.txt', delimiter=',')"
   ]
  },
  {
   "cell_type": "code",
   "execution_count": 166,
   "metadata": {},
   "outputs": [
    {
     "data": {
      "text/plain": [
       "array([[34.62365962, 78.02469282,  0.        ],\n",
       "       [30.28671077, 43.89499752,  0.        ],\n",
       "       [35.84740877, 72.90219803,  0.        ],\n",
       "       [60.18259939, 86.3085521 ,  1.        ],\n",
       "       [79.03273605, 75.34437644,  1.        ]])"
      ]
     },
     "execution_count": 166,
     "metadata": {},
     "output_type": "execute_result"
    }
   ],
   "source": [
    "df[:5]"
   ]
  },
  {
   "cell_type": "code",
   "execution_count": 167,
   "metadata": {},
   "outputs": [],
   "source": [
    "X = np.c_[ np.ones(len(df)), df[ : , :(df.shape[1]-1)] ]"
   ]
  },
  {
   "cell_type": "code",
   "execution_count": 168,
   "metadata": {},
   "outputs": [],
   "source": [
    "y = df[ : , df.shape[1]-1 ]"
   ]
  },
  {
   "cell_type": "code",
   "execution_count": 169,
   "metadata": {},
   "outputs": [
    {
     "data": {
      "text/plain": [
       "array([ 0,  1,  2,  5, 10, 11, 14, 17, 20, 22, 23, 27, 28, 29, 32, 34, 35,\n",
       "       36, 38, 39, 41, 43, 44, 45, 53, 54, 55, 57, 61, 62, 63, 64, 65, 67,\n",
       "       70, 78, 79, 86, 89, 92])"
      ]
     },
     "execution_count": 169,
     "metadata": {},
     "output_type": "execute_result"
    }
   ],
   "source": [
    "np.argwhere(y==0).flatten()"
   ]
  },
  {
   "cell_type": "code",
   "execution_count": 172,
   "metadata": {},
   "outputs": [
    {
     "data": {
      "image/png": "[encoded data removed]",
      "text/plain": [
       "<Figure size 432x288 with 1 Axes>"
      ]
     },
     "metadata": {
      "needs_background": "light"
     },
     "output_type": "display_data"
    }
   ],
   "source": [
    "import matplotlib.pyplot as plt\n",
    "\n",
    "g1 = X[np.argwhere(y==0).flatten()] \n",
    "g2 = X[np.argwhere(y==1).flatten()]\n",
    "\n",
    "# Create plot\n",
    "plt.plot(g1[:,1], g1[:,2], 'ro', color='red', label=\"not_admitted\")\n",
    "plt.plot(g2[:,1], g2[:,2], 'ro', color='green', label=\"admitted\")\n",
    "plt.xlabel('x1')\n",
    "plt.ylabel('x2')\n",
    "plt.show()"
   ]
  },
  {
   "cell_type": "code",
   "execution_count": 173,
   "metadata": {},
   "outputs": [],
   "source": [
    "def sigmoid(z):\n",
    "    return 1/(1+np.exp(-z))"
   ]
  },
  {
   "cell_type": "code",
   "execution_count": 174,
   "metadata": {},
   "outputs": [],
   "source": [
    "def loss(X, y, theta):\n",
    "    return (-y.dot(np.log(sigmoid(X.dot(theta))))-(1-y).dot(np.log(1-sigmoid(X.dot(theta)))))/len(X)"
   ]
  },
  {
   "cell_type": "code",
   "execution_count": 175,
   "metadata": {},
   "outputs": [],
   "source": [
    "def gradient_descent_step(X, y, theta, alfa):\n",
    "    return theta - alfa / len(X) * (sigmoid(X.dot(theta)) - y).dot(X)"
   ]
  },
  {
   "cell_type": "code",
   "execution_count": 176,
   "metadata": {},
   "outputs": [],
   "source": [
    "def find_mean(X):\n",
    "    return 1/len(X) * np.transpose(X).dot(np.ones(len(X)))"
   ]
  },
  {
   "cell_type": "code",
   "execution_count": 177,
   "metadata": {},
   "outputs": [],
   "source": [
    "def find_standard_deviation(X):\n",
    "    return np.sqrt(np.transpose(X - find_mean(X)).dot((X - find_mean(X)))/len(X))"
   ]
  },
  {
   "cell_type": "code",
   "execution_count": 178,
   "metadata": {},
   "outputs": [],
   "source": [
    "def normalize(X, indices_to_normalize):\n",
    "    temp = np.copy(X)\n",
    "    mean = find_mean(X)\n",
    "    sd = find_standard_deviation(X)\n",
    "    for i in indices_to_normalize: # don't normalize the bias!\n",
    "        temp[:,i] = (X[:,i] - mean[i])/sd[i, i]\n",
    "    return temp, mean, sd"
   ]
  },
  {
   "cell_type": "code",
   "execution_count": 179,
   "metadata": {},
   "outputs": [],
   "source": [
    "def normalize_with_given_stats(X, indices_to_normalize, mean, sd):\n",
    "    temp = np.copy(X)\n",
    "    for i in indices_to_normalize: # don't normalize the bias!\n",
    "        temp[:,i] = (X[:,i] - mean[i])/sd[i, i]\n",
    "    return temp"
   ]
  },
  {
   "cell_type": "code",
   "execution_count": 190,
   "metadata": {},
   "outputs": [
    {
     "name": "stderr",
     "output_type": "stream",
     "text": [
      "/opt/miniconda3/lib/python3.7/site-packages/ipykernel_launcher.py:2: RuntimeWarning: invalid value encountered in sqrt\n",
      "  \n"
     ]
    },
    {
     "data": {
      "text/plain": [
       "array([1.60785488, 3.75729212, 3.49729869])"
      ]
     },
     "execution_count": 190,
     "metadata": {},
     "output_type": "execute_result"
    }
   ],
   "source": [
    "# train\n",
    "\n",
    "alfa = 0.3\n",
    "iterations = 1000\n",
    "\n",
    "theta = np.zeros(X.shape[1]) # init theta\n",
    "losses = np.zeros(iterations)\n",
    "X_normalized, mean, sd = normalize(X, [1,2])\n",
    "\n",
    "for i in range(iterations):\n",
    "    theta = gradient_descent_step(X_normalized, y, theta, alfa)\n",
    "    losses[i] = loss(X_normalized, y, theta)\n",
    "    \n",
    "theta"
   ]
  },
  {
   "cell_type": "code",
   "execution_count": 193,
   "metadata": {},
   "outputs": [
    {
     "data": {
      "image/png": "[encoded data removed]",
      "text/plain": [
       "<Figure size 432x288 with 1 Axes>"
      ]
     },
     "metadata": {
      "needs_background": "light"
     },
     "output_type": "display_data"
    }
   ],
   "source": [
    "import matplotlib.pyplot as plt\n",
    "plt.plot(losses)\n",
    "plt.ylabel('loss')\n",
    "plt.xlabel('iterations')\n",
    "plt.show()"
   ]
  },
  {
   "cell_type": "code",
   "execution_count": 194,
   "metadata": {},
   "outputs": [
    {
     "data": {
      "text/plain": [
       "0.20386278731842125"
      ]
     },
     "execution_count": 194,
     "metadata": {},
     "output_type": "execute_result"
    }
   ],
   "source": [
    "losses[-1]"
   ]
  },
  {
   "cell_type": "code",
   "execution_count": 195,
   "metadata": {},
   "outputs": [
    {
     "name": "stdout",
     "output_type": "stream",
     "text": [
      "[0. 0. 0. 1. 1. 0. 1. 0. 1. 1. 1. 0. 1. 1. 0. 1. 0. 0. 1. 1. 0. 1. 0. 0.\n",
      " 1. 1. 1. 1. 0. 0. 1. 1. 0. 0. 0. 0. 1. 1. 0. 0. 1. 0. 1. 1. 0. 0. 1. 1.\n",
      " 1. 1. 1. 1. 1. 0. 0. 0. 1. 1. 1. 1. 1. 0. 0. 0. 0. 0. 1. 0. 1. 1. 0. 1.\n",
      " 1. 1. 1. 1. 1. 1. 0. 1. 1. 1. 1. 0. 1. 1. 0. 1. 1. 0. 1. 1. 0. 1. 1. 1.\n",
      " 1. 1. 0. 1.]\n"
     ]
    }
   ],
   "source": [
    "# predict\n",
    "X_normalized = normalize_with_given_stats(X, [1,2], mean, sd)\n",
    "y_predicted = np.round(sigmoid(X_normalized.dot(theta)))\n",
    "print(y_predicted)"
   ]
  },
  {
   "cell_type": "code",
   "execution_count": 196,
   "metadata": {},
   "outputs": [],
   "source": [
    "def print_confusion_matrix(y, y_predicted):\n",
    "    TP = 0\n",
    "    for i in range(len(y)):\n",
    "        TP += np.where(y[i] == 1 and y_predicted[i] == 1,1,0)\n",
    "    FP = 0\n",
    "    for i in range(len(y)):\n",
    "        FP += np.where(y[i] == 0 and y_predicted[i] == 1,1,0)\n",
    "    TN = 0\n",
    "    for i in range(len(y)):\n",
    "        TN += np.where(y[i] == 0 and y_predicted[i] == 0,1,0)\n",
    "    FN = 0\n",
    "    for i in range(len(y)):\n",
    "        FN += np.where(y[i] == 1 and y_predicted[i] == 0,1,0)\n",
    "    print(\"      Actual Values\")\n",
    "    print(\"Pred. Pos    Neg\")\n",
    "    print(\"Pos   {}   {}\".format(np.round(TP/len(y),2), np.round(FP/len(y),2)))\n",
    "    print(\"Neg   {}   {}\".format(np.round(FN/len(y),2), np.round(TN/len(y),2)))"
   ]
  },
  {
   "cell_type": "code",
   "execution_count": 197,
   "metadata": {},
   "outputs": [
    {
     "name": "stdout",
     "output_type": "stream",
     "text": [
      "      Actual Values\n",
      "Pred. Pos    Neg\n",
      "Pos   0.55   0.06\n",
      "Neg   0.05   0.34\n"
     ]
    }
   ],
   "source": [
    "print_confusion_matrix(y, y_predicted)"
   ]
  },
  {
   "cell_type": "code",
   "execution_count": 198,
   "metadata": {},
   "outputs": [
    {
     "data": {
      "image/png": "[encoded data removed]",
      "text/plain": [
       "<Figure size 432x288 with 1 Axes>"
      ]
     },
     "metadata": {
      "needs_background": "light"
     },
     "output_type": "display_data"
    }
   ],
   "source": [
    "import matplotlib.pyplot as plt\n",
    "\n",
    "g1 = X_normalized[np.argwhere(y==0).flatten()] \n",
    "g2 = X_normalized[np.argwhere(y==1).flatten()]\n",
    "\n",
    "decision_boundary_x1 = np.linspace(np.amin(X_normalized, 0)[1], np.amax(X_normalized, 0)[1], 100)\n",
    "decision_boundary_x2 = -theta[0]/theta[2]-theta[1]/theta[2]*decision_boundary_x1\n",
    "\n",
    "# Create plot\n",
    "plt.plot(g1[:,1], g1[:,2], 'ro', color='red', label=\"not_admitted\")\n",
    "plt.plot(g2[:,1], g2[:,2], 'ro', color='green', label=\"admitted\")\n",
    "plt.plot(decision_boundary_x1, decision_boundary_x2, color='blue', label=\"decision_boundary\")\n",
    "plt.plot()\n",
    "plt.xlabel('x1')\n",
    "plt.ylabel('x2')\n",
    "plt.show()"
   ]
  },
  {
   "cell_type": "code",
   "execution_count": 205,
   "metadata": {},
   "outputs": [
    {
     "data": {
      "image/png": "[encoded data removed]",
      "text/plain": [
       "<Figure size 432x288 with 1 Axes>"
      ]
     },
     "metadata": {
      "needs_background": "light"
     },
     "output_type": "display_data"
    }
   ],
   "source": [
    "# alternative plot with decision boundary\n",
    "\n",
    "import matplotlib.pyplot as plt\n",
    "\n",
    "g1 = X[np.argwhere(y==0).flatten()] \n",
    "g2 = X[np.argwhere(y==1).flatten()]\n",
    "\n",
    "# create a wiremesh for the plane that the predicted values will lie\n",
    "xx, yy, zz = np.meshgrid(X[:, 0], X[:, 1], X[:, 2])\n",
    "combinedArrays = np.vstack((xx.flatten(), yy.flatten(), zz.flatten())).T\n",
    "Z = np.round(sigmoid(normalize_with_given_stats(combinedArrays, [1,2], mean, sd).dot(theta)))\n",
    "\n",
    "p1 = combinedArrays[np.argwhere(Z==0).flatten()] \n",
    "p2 = combinedArrays[np.argwhere(Z==1).flatten()]\n",
    "\n",
    "# Create plot\n",
    "\n",
    "# decision boundary\n",
    "plt.plot(p1[:,1], p1[:,2], 'ro', color='pink')\n",
    "plt.plot(p2[:,1], p2[:,2], 'ro', color='lightgreen')\n",
    "\n",
    "# actual values\n",
    "plt.plot(g1[:,1], g1[:,2], 'ro', color='red')\n",
    "plt.plot(g2[:,1], g2[:,2], 'ro', color='green')\n",
    "\n",
    "plt.plot()\n",
    "plt.xlabel('x1')\n",
    "plt.ylabel('x2')\n",
    "plt.show()"
   ]
  },
  {
   "cell_type": "code",
   "execution_count": null,
   "metadata": {},
   "outputs": [],
   "source": []
  }
 ],
 "metadata": {
  "kernelspec": {
   "display_name": "Python 3",
   "language": "python",
   "name": "python3"
  },
  "language_info": {
   "codemirror_mode": {
    "name": "ipython",
    "version": 3
   },
   "file_extension": ".py",
   "mimetype": "text/x-python",
   "name": "python",
   "nbconvert_exporter": "python",
   "pygments_lexer": "ipython3",
   "version": "3.7.4"
  }
 },
 "nbformat": 4,
 "nbformat_minor": 4
}
